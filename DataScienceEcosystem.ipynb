{
 "cells": [
  {
   "cell_type": "markdown",
   "id": "56c65cc1-95de-4521-9693-a299de731b5c",
   "metadata": {},
   "source": [
    "Exercise 3 - Create a markdown cell for an introduction\n",
    "\n",
    "In this notebook, Data Science Tools and Ecosystem are summarized.\n"
   ]
  },
  {
   "cell_type": "markdown",
   "id": "f65255a4-47b5-4b5b-b761-c2122b09e386",
   "metadata": {
    "tags": []
   },
   "source": [
    "# Data Science Tools and Ecosystem"
   ]
  },
  {
   "cell_type": "markdown",
   "id": "323b8154-1303-453e-a3f1-746a2be38656",
   "metadata": {},
   "source": [
    "In this notebook, Data Science Tools and Ecosystem are summarized.\n"
   ]
  },
  {
   "cell_type": "markdown",
   "id": "f7b23502-9285-49d9-9dfa-2e1607074173",
   "metadata": {},
   "source": [
    "Some of the popular languages that Data Scientists use are:\n",
    "1. R\n",
    "2. Python\n",
    "3. SQL"
   ]
  },
  {
   "cell_type": "markdown",
   "id": "e0e92160-4deb-4070-b81b-33569d01f583",
   "metadata": {
    "tags": []
   },
   "source": [
    "Some of the commonly used libraries used by Data Scientists include:\n",
    "1. ggplot2 (R)\n",
    "2. sciPy (Python)\n",
    "3. pandas (Python)"
   ]
  },
  {
   "cell_type": "markdown",
   "id": "113704a7-dbd4-4a28-9b59-10b326b0614b",
   "metadata": {},
   "source": [
    "| Data Science Tools |\n",
    "| ------------------ |\n",
    "| Jupyter Notebooks |\n",
    "| Git |\n",
    "| RStudio |\n"
   ]
  },
  {
   "cell_type": "markdown",
   "id": "1843b9b5-ecea-4fdd-8478-02e0d6fc1657",
   "metadata": {},
   "source": [
    "### Below are a few examples of evaluating arithmetic expressions in Python.\n",
    "\n",
    "a = 1\n",
    "\n",
    "b = a + 3\n",
    "\n",
    "c = a + b\n",
    "\n",
    "c = a / b"
   ]
  },
  {
   "cell_type": "code",
   "execution_count": 2,
   "id": "0222d096-e025-41f5-81bf-64457417ce15",
   "metadata": {
    "tags": []
   },
   "outputs": [
    {
     "data": {
      "text/plain": [
       "17"
      ]
     },
     "execution_count": 2,
     "metadata": {},
     "output_type": "execute_result"
    }
   ],
   "source": [
    "#This a simple arithmetic expression to mutiply then add integers\n",
    "(3*4)+5"
   ]
  },
  {
   "cell_type": "code",
   "execution_count": 6,
   "id": "3a557d4e-927d-4671-b6c7-6aa2cccff741",
   "metadata": {
    "tags": []
   },
   "outputs": [
    {
     "name": "stdout",
     "output_type": "stream",
     "text": [
      "200 minutes are 3.3333333333333335 hours\n"
     ]
    }
   ],
   "source": [
    "#This will convert 200 minutes to hours by diving by 60\n",
    "\n",
    "m = 200\n",
    "h = 200/60\n",
    "print(str(m) + \" minutes are \" + str(h) + \" hours\")\n"
   ]
  },
  {
   "cell_type": "markdown",
   "id": "9b97bc06-5311-45e6-bc51-8e5403912342",
   "metadata": {},
   "source": [
    "**Objectives:**\n",
    "- List popular languages for Data Science\n",
    "- List popular libraries for Data Science\n",
    "- List a few examples of arithmetic expressions in Python"
   ]
  },
  {
   "cell_type": "markdown",
   "id": "b6528276-2db5-44cb-95fc-78dcf101b09a",
   "metadata": {},
   "source": [
    "## Author\n",
    "Antonio Pérez García"
   ]
  }
 ],
 "metadata": {
  "kernelspec": {
   "display_name": "Python",
   "language": "python",
   "name": "conda-env-python-py"
  },
  "language_info": {
   "codemirror_mode": {
    "name": "ipython",
    "version": 3
   },
   "file_extension": ".py",
   "mimetype": "text/x-python",
   "name": "python",
   "nbconvert_exporter": "python",
   "pygments_lexer": "ipython3",
   "version": "3.7.12"
  }
 },
 "nbformat": 4,
 "nbformat_minor": 5
}
